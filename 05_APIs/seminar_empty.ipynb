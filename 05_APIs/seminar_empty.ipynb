{
 "cells": [
  {
   "cell_type": "code",
   "execution_count": 1,
   "id": "492eb907-b454-403f-914a-281a61751e07",
   "metadata": {},
   "outputs": [],
   "source": [
    "import requests\n",
    "import pandas as pd\n",
    "import time"
   ]
  },
  {
   "cell_type": "markdown",
   "id": "9b9babd9-e6ad-49bd-9e5e-c479363d305b",
   "metadata": {
    "tags": []
   },
   "source": [
    "# Seminar - APIs and real-life coding"
   ]
  },
  {
   "cell_type": "markdown",
   "id": "4d7941ab-1155-4c89-8095-94edf11f889d",
   "metadata": {
    "tags": []
   },
   "source": [
    "## Task 1: Requesting API\n",
    "### 1a. Create a function requesting data from sreality\n",
    "\n",
    "```python\n",
    "base_url = 'https://www.sreality.cz/api/cs/v2/estates?category_main_cb=1&category_type_cb=1&locality_region_id=10&per_page60&page={}'.format(i)\n",
    "\n",
    "r = requests.get(base_url)\n",
    "d = r.json()\n",
    "```\n",
    "\n",
    "* function should parametrize: \n",
    "    * `category_main_cb` - `{'flat':1, 'house':2, 'land':3 }`\n",
    "    * `category_type_cb` - `{'sell':1,'rent':2}`\n",
    "    * `locality_region_id` - `{'Praha':10,'Brno':14}`\n",
    "    * `page` parameter\n",
    "* use string inputs for `category_main_cb` and `category_type_cb`\n",
    "* test the validity of inputs\n",
    "* include try/except clause to handle errors\n",
    "* function should return JSON data in python types\n",
    "* do not forget to sleep each request at least 0.5s"
   ]
  },
  {
   "cell_type": "code",
   "execution_count": 13,
   "id": "55cca328-f8c4-4fba-a0b3-6d20c990d712",
   "metadata": {},
   "outputs": [
    {
     "name": "stdout",
     "output_type": "stream",
     "text": [
      "https://www.sreality.cz/api/cs/v2/estates?category_main_cb=1&category_type_cb=1&locality_region_id=10&per_page60&page=1\n",
      "The data was not retrievent sucesfully with status code: 200\n",
      "None\n"
     ]
    }
   ],
   "source": [
    "base_url = 'https://www.sreality.cz/api/cs/v2/estates?category_main_cb=1&category_type_cb=1&locality_region_id=10&per_page60&page={}'.format(\"1\")\n",
    "print(base_url)\n",
    "def get_sreality_data(category = \"flat\",category_typd = \"sell\",locality = \"Praha\",page = 1):\n",
    "\n",
    "    categories_dict = {'flat':1, 'house':2, 'land':3 }\n",
    "    category_type_dict  = {'sell':1,'rent':2}\n",
    "    locality_region_dict = {'Praha':10,'Brno':14}\n",
    "\n",
    "    try:\n",
    "        str(category)\n",
    "        str(category_typd)\n",
    "        str(locality)\n",
    "        int(page)\n",
    "        categories_dict.get(category)\n",
    "        category_type_dict.get(category_typd)\n",
    "        locality_region_dict.get(locality)\n",
    "    except:\n",
    "    \n",
    "        print(\"You have probably not inserted the inputs in the correct format. It has to be string fot category, category_type,locality nad integer for page, try it again\")\n",
    "    \n",
    "\n",
    "    base_url = 'https://www.sreality.cz/api/cs/v2/estates?category_main_cb={category}&category_type_cb={type}&locality_region_id={id}&per_page60&page={page}'.format(category = categories_dict.get(category),\n",
    "                                                                                                                                                   type = (category_type_dict.get(category_typd))\n",
    "                                                                                                                                                   ,id = (locality_region_dict.get(locality))\n",
    "                                                                                                                                                   ,page = (page))\n",
    "    try :\n",
    "        r = requests.get(base_url)\n",
    "        if r.ok():\n",
    "            data = r.json()\n",
    "            time.sleep(0.5)\n",
    "        return data\n",
    "    except:\n",
    "        print(\"The data was not retrievent sucesfully with status code: {}\".format(r.status_code))\n",
    "        return None\n",
    "print(get_sreality_data())"
   ]
  },
  {
   "cell_type": "markdown",
   "id": "8b718701-e4a4-4fe4-bf34-d03913765b2a",
   "metadata": {},
   "source": [
    "### 1b. Create a function converting sreality json data into pandas dataframe"
   ]
  },
  {
   "cell_type": "code",
   "execution_count": 26,
   "id": "dac6b12a-944b-4e42-9c9e-9b6b6b0de1a3",
   "metadata": {},
   "outputs": [],
   "source": [
    "def normalize_as_json(input_json):\n",
    "    df = pd.json_normalize(input_json)\n",
    "    return df"
   ]
  },
  {
   "cell_type": "markdown",
   "id": "fc2cde54-c6c3-4baf-9e4c-b740d8eb4dbd",
   "metadata": {},
   "source": [
    "### 1c. link function `1b` into function `1a`"
   ]
  },
  {
   "cell_type": "code",
   "execution_count": 30,
   "id": "e8da8611-df45-4f30-87d6-8059f61f810d",
   "metadata": {},
   "outputs": [
    {
     "name": "stdout",
     "output_type": "stream",
     "text": [
      "https://www.sreality.cz/api/cs/v2/estates?category_main_cb=1&category_type_cb=1&locality_region_id=10&per_page60&page=1\n"
     ]
    },
    {
     "ename": "UnboundLocalError",
     "evalue": "local variable 'r' referenced before assignment",
     "output_type": "error",
     "traceback": [
      "\u001b[1;31m---------------------------------------------------------------------------\u001b[0m",
      "\u001b[1;31mKeyboardInterrupt\u001b[0m                         Traceback (most recent call last)",
      "\u001b[1;32mc:\\Users\\tomas\\Python IES\\PythonDataIES\\05_APIs\\seminar_empty.ipynb Cell 8\u001b[0m in \u001b[0;36mget_sreality_data\u001b[1;34m(category, category_typd, locality, page)\u001b[0m\n\u001b[0;32m     <a href='vscode-notebook-cell:/c%3A/Users/tomas/Python%20IES/PythonDataIES/05_APIs/seminar_empty.ipynb#X10sZmlsZQ%3D%3D?line=25'>26</a>\u001b[0m \u001b[39mtry\u001b[39;00m :\n\u001b[1;32m---> <a href='vscode-notebook-cell:/c%3A/Users/tomas/Python%20IES/PythonDataIES/05_APIs/seminar_empty.ipynb#X10sZmlsZQ%3D%3D?line=26'>27</a>\u001b[0m     r \u001b[39m=\u001b[39m requests\u001b[39m.\u001b[39;49mget(base_url)\n\u001b[0;32m     <a href='vscode-notebook-cell:/c%3A/Users/tomas/Python%20IES/PythonDataIES/05_APIs/seminar_empty.ipynb#X10sZmlsZQ%3D%3D?line=27'>28</a>\u001b[0m     \u001b[39mif\u001b[39;00m r\u001b[39m.\u001b[39mstatus_code \u001b[39m==\u001b[39m \u001b[39m200\u001b[39m:\n",
      "File \u001b[1;32mc:\\Users\\tomas\\anaconda3\\lib\\site-packages\\requests\\api.py:75\u001b[0m, in \u001b[0;36mget\u001b[1;34m(url, params, **kwargs)\u001b[0m\n\u001b[0;32m     65\u001b[0m \u001b[39mr\u001b[39m\u001b[39m\"\"\"Sends a GET request.\u001b[39;00m\n\u001b[0;32m     66\u001b[0m \n\u001b[0;32m     67\u001b[0m \u001b[39m:param url: URL for the new :class:`Request` object.\u001b[39;00m\n\u001b[1;32m   (...)\u001b[0m\n\u001b[0;32m     72\u001b[0m \u001b[39m:rtype: requests.Response\u001b[39;00m\n\u001b[0;32m     73\u001b[0m \u001b[39m\"\"\"\u001b[39;00m\n\u001b[1;32m---> 75\u001b[0m \u001b[39mreturn\u001b[39;00m request(\u001b[39m'\u001b[39m\u001b[39mget\u001b[39m\u001b[39m'\u001b[39m, url, params\u001b[39m=\u001b[39mparams, \u001b[39m*\u001b[39m\u001b[39m*\u001b[39mkwargs)\n",
      "File \u001b[1;32mc:\\Users\\tomas\\anaconda3\\lib\\site-packages\\requests\\api.py:61\u001b[0m, in \u001b[0;36mrequest\u001b[1;34m(method, url, **kwargs)\u001b[0m\n\u001b[0;32m     60\u001b[0m \u001b[39mwith\u001b[39;00m sessions\u001b[39m.\u001b[39mSession() \u001b[39mas\u001b[39;00m session:\n\u001b[1;32m---> 61\u001b[0m     \u001b[39mreturn\u001b[39;00m session\u001b[39m.\u001b[39mrequest(method\u001b[39m=\u001b[39mmethod, url\u001b[39m=\u001b[39murl, \u001b[39m*\u001b[39m\u001b[39m*\u001b[39mkwargs)\n",
      "File \u001b[1;32mc:\\Users\\tomas\\anaconda3\\lib\\site-packages\\requests\\sessions.py:529\u001b[0m, in \u001b[0;36mSession.request\u001b[1;34m(self, method, url, params, data, headers, cookies, files, auth, timeout, allow_redirects, proxies, hooks, stream, verify, cert, json)\u001b[0m\n\u001b[0;32m    528\u001b[0m send_kwargs\u001b[39m.\u001b[39mupdate(settings)\n\u001b[1;32m--> 529\u001b[0m resp \u001b[39m=\u001b[39m \u001b[39mself\u001b[39m\u001b[39m.\u001b[39msend(prep, \u001b[39m*\u001b[39m\u001b[39m*\u001b[39msend_kwargs)\n\u001b[0;32m    531\u001b[0m \u001b[39mreturn\u001b[39;00m resp\n",
      "File \u001b[1;32mc:\\Users\\tomas\\anaconda3\\lib\\site-packages\\requests\\sessions.py:645\u001b[0m, in \u001b[0;36mSession.send\u001b[1;34m(self, request, **kwargs)\u001b[0m\n\u001b[0;32m    644\u001b[0m \u001b[39m# Send the request\u001b[39;00m\n\u001b[1;32m--> 645\u001b[0m r \u001b[39m=\u001b[39m adapter\u001b[39m.\u001b[39msend(request, \u001b[39m*\u001b[39m\u001b[39m*\u001b[39mkwargs)\n\u001b[0;32m    647\u001b[0m \u001b[39m# Total elapsed time of the request (approximately)\u001b[39;00m\n",
      "File \u001b[1;32mc:\\Users\\tomas\\anaconda3\\lib\\site-packages\\requests\\adapters.py:440\u001b[0m, in \u001b[0;36mHTTPAdapter.send\u001b[1;34m(self, request, stream, timeout, verify, cert, proxies)\u001b[0m\n\u001b[0;32m    439\u001b[0m \u001b[39mif\u001b[39;00m \u001b[39mnot\u001b[39;00m chunked:\n\u001b[1;32m--> 440\u001b[0m     resp \u001b[39m=\u001b[39m conn\u001b[39m.\u001b[39;49murlopen(\n\u001b[0;32m    441\u001b[0m         method\u001b[39m=\u001b[39;49mrequest\u001b[39m.\u001b[39;49mmethod,\n\u001b[0;32m    442\u001b[0m         url\u001b[39m=\u001b[39;49murl,\n\u001b[0;32m    443\u001b[0m         body\u001b[39m=\u001b[39;49mrequest\u001b[39m.\u001b[39;49mbody,\n\u001b[0;32m    444\u001b[0m         headers\u001b[39m=\u001b[39;49mrequest\u001b[39m.\u001b[39;49mheaders,\n\u001b[0;32m    445\u001b[0m         redirect\u001b[39m=\u001b[39;49m\u001b[39mFalse\u001b[39;49;00m,\n\u001b[0;32m    446\u001b[0m         assert_same_host\u001b[39m=\u001b[39;49m\u001b[39mFalse\u001b[39;49;00m,\n\u001b[0;32m    447\u001b[0m         preload_content\u001b[39m=\u001b[39;49m\u001b[39mFalse\u001b[39;49;00m,\n\u001b[0;32m    448\u001b[0m         decode_content\u001b[39m=\u001b[39;49m\u001b[39mFalse\u001b[39;49;00m,\n\u001b[0;32m    449\u001b[0m         retries\u001b[39m=\u001b[39;49m\u001b[39mself\u001b[39;49m\u001b[39m.\u001b[39;49mmax_retries,\n\u001b[0;32m    450\u001b[0m         timeout\u001b[39m=\u001b[39;49mtimeout\n\u001b[0;32m    451\u001b[0m     )\n\u001b[0;32m    453\u001b[0m \u001b[39m# Send the request.\u001b[39;00m\n\u001b[0;32m    454\u001b[0m \u001b[39melse\u001b[39;00m:\n",
      "File \u001b[1;32mc:\\Users\\tomas\\anaconda3\\lib\\site-packages\\urllib3\\connectionpool.py:703\u001b[0m, in \u001b[0;36mHTTPConnectionPool.urlopen\u001b[1;34m(self, method, url, body, headers, retries, redirect, assert_same_host, timeout, pool_timeout, release_conn, chunked, body_pos, **response_kw)\u001b[0m\n\u001b[0;32m    702\u001b[0m \u001b[39m# Make the request on the httplib connection object.\u001b[39;00m\n\u001b[1;32m--> 703\u001b[0m httplib_response \u001b[39m=\u001b[39m \u001b[39mself\u001b[39;49m\u001b[39m.\u001b[39;49m_make_request(\n\u001b[0;32m    704\u001b[0m     conn,\n\u001b[0;32m    705\u001b[0m     method,\n\u001b[0;32m    706\u001b[0m     url,\n\u001b[0;32m    707\u001b[0m     timeout\u001b[39m=\u001b[39;49mtimeout_obj,\n\u001b[0;32m    708\u001b[0m     body\u001b[39m=\u001b[39;49mbody,\n\u001b[0;32m    709\u001b[0m     headers\u001b[39m=\u001b[39;49mheaders,\n\u001b[0;32m    710\u001b[0m     chunked\u001b[39m=\u001b[39;49mchunked,\n\u001b[0;32m    711\u001b[0m )\n\u001b[0;32m    713\u001b[0m \u001b[39m# If we're going to release the connection in ``finally:``, then\u001b[39;00m\n\u001b[0;32m    714\u001b[0m \u001b[39m# the response doesn't need to know about the connection. Otherwise\u001b[39;00m\n\u001b[0;32m    715\u001b[0m \u001b[39m# it will also try to release it and we'll have a double-release\u001b[39;00m\n\u001b[0;32m    716\u001b[0m \u001b[39m# mess.\u001b[39;00m\n",
      "File \u001b[1;32mc:\\Users\\tomas\\anaconda3\\lib\\site-packages\\urllib3\\connectionpool.py:449\u001b[0m, in \u001b[0;36mHTTPConnectionPool._make_request\u001b[1;34m(self, conn, method, url, timeout, chunked, **httplib_request_kw)\u001b[0m\n\u001b[0;32m    445\u001b[0m         \u001b[39mexcept\u001b[39;00m \u001b[39mBaseException\u001b[39;00m \u001b[39mas\u001b[39;00m e:\n\u001b[0;32m    446\u001b[0m             \u001b[39m# Remove the TypeError from the exception chain in\u001b[39;00m\n\u001b[0;32m    447\u001b[0m             \u001b[39m# Python 3 (including for exceptions like SystemExit).\u001b[39;00m\n\u001b[0;32m    448\u001b[0m             \u001b[39m# Otherwise it looks like a bug in the code.\u001b[39;00m\n\u001b[1;32m--> 449\u001b[0m             six\u001b[39m.\u001b[39;49mraise_from(e, \u001b[39mNone\u001b[39;49;00m)\n\u001b[0;32m    450\u001b[0m \u001b[39mexcept\u001b[39;00m (SocketTimeout, BaseSSLError, SocketError) \u001b[39mas\u001b[39;00m e:\n",
      "File \u001b[1;32m<string>:3\u001b[0m, in \u001b[0;36mraise_from\u001b[1;34m(value, from_value)\u001b[0m\n",
      "File \u001b[1;32mc:\\Users\\tomas\\anaconda3\\lib\\site-packages\\urllib3\\connectionpool.py:444\u001b[0m, in \u001b[0;36mHTTPConnectionPool._make_request\u001b[1;34m(self, conn, method, url, timeout, chunked, **httplib_request_kw)\u001b[0m\n\u001b[0;32m    443\u001b[0m \u001b[39mtry\u001b[39;00m:\n\u001b[1;32m--> 444\u001b[0m     httplib_response \u001b[39m=\u001b[39m conn\u001b[39m.\u001b[39;49mgetresponse()\n\u001b[0;32m    445\u001b[0m \u001b[39mexcept\u001b[39;00m \u001b[39mBaseException\u001b[39;00m \u001b[39mas\u001b[39;00m e:\n\u001b[0;32m    446\u001b[0m     \u001b[39m# Remove the TypeError from the exception chain in\u001b[39;00m\n\u001b[0;32m    447\u001b[0m     \u001b[39m# Python 3 (including for exceptions like SystemExit).\u001b[39;00m\n\u001b[0;32m    448\u001b[0m     \u001b[39m# Otherwise it looks like a bug in the code.\u001b[39;00m\n",
      "File \u001b[1;32mc:\\Users\\tomas\\anaconda3\\lib\\http\\client.py:1377\u001b[0m, in \u001b[0;36mHTTPConnection.getresponse\u001b[1;34m(self)\u001b[0m\n\u001b[0;32m   1376\u001b[0m \u001b[39mtry\u001b[39;00m:\n\u001b[1;32m-> 1377\u001b[0m     response\u001b[39m.\u001b[39;49mbegin()\n\u001b[0;32m   1378\u001b[0m \u001b[39mexcept\u001b[39;00m \u001b[39mConnectionError\u001b[39;00m:\n",
      "File \u001b[1;32mc:\\Users\\tomas\\anaconda3\\lib\\http\\client.py:320\u001b[0m, in \u001b[0;36mHTTPResponse.begin\u001b[1;34m(self)\u001b[0m\n\u001b[0;32m    319\u001b[0m \u001b[39mwhile\u001b[39;00m \u001b[39mTrue\u001b[39;00m:\n\u001b[1;32m--> 320\u001b[0m     version, status, reason \u001b[39m=\u001b[39m \u001b[39mself\u001b[39;49m\u001b[39m.\u001b[39;49m_read_status()\n\u001b[0;32m    321\u001b[0m     \u001b[39mif\u001b[39;00m status \u001b[39m!=\u001b[39m CONTINUE:\n",
      "File \u001b[1;32mc:\\Users\\tomas\\anaconda3\\lib\\http\\client.py:281\u001b[0m, in \u001b[0;36mHTTPResponse._read_status\u001b[1;34m(self)\u001b[0m\n\u001b[0;32m    280\u001b[0m \u001b[39mdef\u001b[39;00m \u001b[39m_read_status\u001b[39m(\u001b[39mself\u001b[39m):\n\u001b[1;32m--> 281\u001b[0m     line \u001b[39m=\u001b[39m \u001b[39mstr\u001b[39m(\u001b[39mself\u001b[39;49m\u001b[39m.\u001b[39;49mfp\u001b[39m.\u001b[39;49mreadline(_MAXLINE \u001b[39m+\u001b[39;49m \u001b[39m1\u001b[39;49m), \u001b[39m\"\u001b[39m\u001b[39miso-8859-1\u001b[39m\u001b[39m\"\u001b[39m)\n\u001b[0;32m    282\u001b[0m     \u001b[39mif\u001b[39;00m \u001b[39mlen\u001b[39m(line) \u001b[39m>\u001b[39m _MAXLINE:\n",
      "File \u001b[1;32mc:\\Users\\tomas\\anaconda3\\lib\\socket.py:704\u001b[0m, in \u001b[0;36mSocketIO.readinto\u001b[1;34m(self, b)\u001b[0m\n\u001b[0;32m    703\u001b[0m \u001b[39mtry\u001b[39;00m:\n\u001b[1;32m--> 704\u001b[0m     \u001b[39mreturn\u001b[39;00m \u001b[39mself\u001b[39;49m\u001b[39m.\u001b[39;49m_sock\u001b[39m.\u001b[39;49mrecv_into(b)\n\u001b[0;32m    705\u001b[0m \u001b[39mexcept\u001b[39;00m timeout:\n",
      "File \u001b[1;32mc:\\Users\\tomas\\anaconda3\\lib\\ssl.py:1241\u001b[0m, in \u001b[0;36mSSLSocket.recv_into\u001b[1;34m(self, buffer, nbytes, flags)\u001b[0m\n\u001b[0;32m   1238\u001b[0m         \u001b[39mraise\u001b[39;00m \u001b[39mValueError\u001b[39;00m(\n\u001b[0;32m   1239\u001b[0m           \u001b[39m\"\u001b[39m\u001b[39mnon-zero flags not allowed in calls to recv_into() on \u001b[39m\u001b[39m%s\u001b[39;00m\u001b[39m\"\u001b[39m \u001b[39m%\u001b[39m\n\u001b[0;32m   1240\u001b[0m           \u001b[39mself\u001b[39m\u001b[39m.\u001b[39m\u001b[39m__class__\u001b[39m)\n\u001b[1;32m-> 1241\u001b[0m     \u001b[39mreturn\u001b[39;00m \u001b[39mself\u001b[39;49m\u001b[39m.\u001b[39;49mread(nbytes, buffer)\n\u001b[0;32m   1242\u001b[0m \u001b[39melse\u001b[39;00m:\n",
      "File \u001b[1;32mc:\\Users\\tomas\\anaconda3\\lib\\ssl.py:1099\u001b[0m, in \u001b[0;36mSSLSocket.read\u001b[1;34m(self, len, buffer)\u001b[0m\n\u001b[0;32m   1098\u001b[0m \u001b[39mif\u001b[39;00m buffer \u001b[39mis\u001b[39;00m \u001b[39mnot\u001b[39;00m \u001b[39mNone\u001b[39;00m:\n\u001b[1;32m-> 1099\u001b[0m     \u001b[39mreturn\u001b[39;00m \u001b[39mself\u001b[39;49m\u001b[39m.\u001b[39;49m_sslobj\u001b[39m.\u001b[39;49mread(\u001b[39mlen\u001b[39;49m, buffer)\n\u001b[0;32m   1100\u001b[0m \u001b[39melse\u001b[39;00m:\n",
      "\u001b[1;31mKeyboardInterrupt\u001b[0m: ",
      "\nDuring handling of the above exception, another exception occurred:\n",
      "\u001b[1;31mUnboundLocalError\u001b[0m                         Traceback (most recent call last)",
      "\u001b[1;32mc:\\Users\\tomas\\Python IES\\PythonDataIES\\05_APIs\\seminar_empty.ipynb Cell 8\u001b[0m in \u001b[0;36m<cell line: 35>\u001b[1;34m()\u001b[0m\n\u001b[0;32m     <a href='vscode-notebook-cell:/c%3A/Users/tomas/Python%20IES/PythonDataIES/05_APIs/seminar_empty.ipynb#X10sZmlsZQ%3D%3D?line=32'>33</a>\u001b[0m         \u001b[39mprint\u001b[39m(\u001b[39m\"\u001b[39m\u001b[39mThe data was not retrievent sucesfully with status code: \u001b[39m\u001b[39m{}\u001b[39;00m\u001b[39m\"\u001b[39m\u001b[39m.\u001b[39mformat(r\u001b[39m.\u001b[39mstatus_code))\n\u001b[0;32m     <a href='vscode-notebook-cell:/c%3A/Users/tomas/Python%20IES/PythonDataIES/05_APIs/seminar_empty.ipynb#X10sZmlsZQ%3D%3D?line=33'>34</a>\u001b[0m         \u001b[39mreturn\u001b[39;00m \u001b[39mNone\u001b[39;00m\n\u001b[1;32m---> <a href='vscode-notebook-cell:/c%3A/Users/tomas/Python%20IES/PythonDataIES/05_APIs/seminar_empty.ipynb#X10sZmlsZQ%3D%3D?line=34'>35</a>\u001b[0m get_sreality_data()\n",
      "\u001b[1;32mc:\\Users\\tomas\\Python IES\\PythonDataIES\\05_APIs\\seminar_empty.ipynb Cell 8\u001b[0m in \u001b[0;36mget_sreality_data\u001b[1;34m(category, category_typd, locality, page)\u001b[0m\n\u001b[0;32m     <a href='vscode-notebook-cell:/c%3A/Users/tomas/Python%20IES/PythonDataIES/05_APIs/seminar_empty.ipynb#X10sZmlsZQ%3D%3D?line=30'>31</a>\u001b[0m     \u001b[39mreturn\u001b[39;00m normalize_as_json(data[\u001b[39m'\u001b[39m\u001b[39m_embedded\u001b[39m\u001b[39m'\u001b[39m][\u001b[39m'\u001b[39m\u001b[39mestates\u001b[39m\u001b[39m'\u001b[39m]\u001b[39m.\u001b[39mlabels())\n\u001b[0;32m     <a href='vscode-notebook-cell:/c%3A/Users/tomas/Python%20IES/PythonDataIES/05_APIs/seminar_empty.ipynb#X10sZmlsZQ%3D%3D?line=31'>32</a>\u001b[0m \u001b[39mexcept\u001b[39;00m:\n\u001b[1;32m---> <a href='vscode-notebook-cell:/c%3A/Users/tomas/Python%20IES/PythonDataIES/05_APIs/seminar_empty.ipynb#X10sZmlsZQ%3D%3D?line=32'>33</a>\u001b[0m     \u001b[39mprint\u001b[39m(\u001b[39m\"\u001b[39m\u001b[39mThe data was not retrievent sucesfully with status code: \u001b[39m\u001b[39m{}\u001b[39;00m\u001b[39m\"\u001b[39m\u001b[39m.\u001b[39mformat(r\u001b[39m.\u001b[39mstatus_code))\n\u001b[0;32m     <a href='vscode-notebook-cell:/c%3A/Users/tomas/Python%20IES/PythonDataIES/05_APIs/seminar_empty.ipynb#X10sZmlsZQ%3D%3D?line=33'>34</a>\u001b[0m     \u001b[39mreturn\u001b[39;00m \u001b[39mNone\u001b[39;00m\n",
      "\u001b[1;31mUnboundLocalError\u001b[0m: local variable 'r' referenced before assignment"
     ]
    }
   ],
   "source": [
    "base_url = 'https://www.sreality.cz/api/cs/v2/estates?category_main_cb=1&category_type_cb=1&locality_region_id=10&per_page60&page={}'.format(\"1\")\n",
    "print(base_url)\n",
    "def get_sreality_data(category = \"flat\",category_typd = \"sell\",locality = \"Praha\",page = 1):\n",
    "\n",
    "    categories_dict = {'flat':1, 'house':2, 'land':3 }\n",
    "    category_type_dict  = {'sell':1,'rent':2}\n",
    "    locality_region_dict = {'Praha':10,'Brno':14}\n",
    "\n",
    "    try:\n",
    "        str(category)\n",
    "        str(category_typd)\n",
    "        str(locality)\n",
    "        int(page)\n",
    "        categories_dict.get(category)\n",
    "        category_type_dict.get(category_typd)\n",
    "        locality_region_dict.get(locality)\n",
    "    except:\n",
    "    \n",
    "        print(\"You have probably not inserted the inputs in the correct format. It has to be string fot category, category_type,locality nad integer for page, try it again\")\n",
    "    \n",
    "\n",
    "    base_url = 'https://www.sreality.cz/api/cs/v2/estates?category_main_cb={category}&category_type_cb={type}&locality_region_id={id}&per_page60&page={page}'.format(category = categories_dict.get(category),\n",
    "                                                                                                                                                   type = (category_type_dict.get(category_typd))\n",
    "                                                                                                                                                   ,id = (locality_region_dict.get(locality))\n",
    "                                                                                                                                                   ,page = (page))\n",
    "    try :\n",
    "        r = requests.get(base_url)\n",
    "        if r.status_code == 200:\n",
    "            data = r.json()\n",
    "            time.sleep(0.5)\n",
    "        return normalize_as_json(data['_embedded']['estates'].keys())\n",
    "    except:\n",
    "        print(\"The data was not retrievent sucesfully with status code: {}\".format(r.status_code))\n",
    "        return None\n",
    "get_sreality_data()"
   ]
  },
  {
   "cell_type": "markdown",
   "id": "4ebab853-b6f2-4335-b13a-6c3cbba1951b",
   "metadata": {},
   "source": [
    "### 1c. Combining multiple requests into single df\n",
    "\n",
    "* Function should parametrize:\n",
    "    * `start_page` and `end_page`\n",
    "    * request parameters\n",
    "* construct a list of individual request dfs\n",
    "* then feed it into `pd.concat` function"
   ]
  },
  {
   "cell_type": "code",
   "execution_count": null,
   "id": "284687ef-aba6-4bbf-b7bf-c42dafda4cb4",
   "metadata": {},
   "outputs": [],
   "source": []
  },
  {
   "cell_type": "markdown",
   "id": "bdde40e7-f68e-4859-878e-772c112f7355",
   "metadata": {},
   "source": [
    "## Task 2: Cleaning data\n",
    "\n",
    "### 2a. Filter columns\n",
    "* filter only columns: `['locality', 'price', 'name', 'gps','hash_id','labelsAll','exclusively_at_rk']`\n",
    "* use `.copy()` to avoid `SettingWithCopyWarning` later\n"
   ]
  },
  {
   "cell_type": "code",
   "execution_count": null,
   "id": "34d14f44-48f4-4bcd-bac0-ddf282242464",
   "metadata": {},
   "outputs": [],
   "source": []
  },
  {
   "cell_type": "markdown",
   "id": "80deec04-4959-4d9a-8a3a-7cf616e8558a",
   "metadata": {
    "tags": []
   },
   "source": [
    "### 2b: GPS\n",
    "* Convert dictionary in `gps` column into two columns - `lat` and `lon`\n",
    "* use apply function on gps column\n",
    "* Note apply can return multiple columns"
   ]
  },
  {
   "cell_type": "code",
   "execution_count": null,
   "id": "ef76e8c3-e06e-4cbb-8e66-e8c9e2133a0f",
   "metadata": {},
   "outputs": [],
   "source": []
  },
  {
   "cell_type": "markdown",
   "id": "36c22408-c327-4c17-b1b4-de54f63f0627",
   "metadata": {},
   "source": [
    "### 2b. Get flat type from name\n",
    "* Name is always represented by string `Prodej bytu [type of flat] [Area] m^2`\n",
    "* try picking third word in string\n",
    "* check meaningfulness using `.value_counts()`"
   ]
  },
  {
   "cell_type": "code",
   "execution_count": null,
   "id": "150a551c-f321-408d-b8bc-dee6c2fb2adf",
   "metadata": {},
   "outputs": [],
   "source": []
  },
  {
   "cell_type": "markdown",
   "id": "5e233b14-db62-41f8-be82-45c861d62e3e",
   "metadata": {},
   "source": [
    "### 2c. Get area from name\n",
    "* Naive: select the word before last word\n",
    "* Then try navigating using the index of `'m²'`\n",
    "* if this also fail, then you will need to use regex"
   ]
  },
  {
   "cell_type": "code",
   "execution_count": null,
   "id": "94a6f0cf-2c35-42fa-a518-d1249487da1e",
   "metadata": {},
   "outputs": [],
   "source": []
  },
  {
   "cell_type": "markdown",
   "id": "ce71f809-7a5a-487e-882a-6aa9c7124727",
   "metadata": {},
   "source": [
    "## Task 3 (Homework): Convert column`labelsAll` into boolean variables\n",
    "\n",
    "### Task 3a. Get all possible label names\n",
    "* deal with nested-list structure\n",
    "* Hint: try sum the whole column to get a nested list of lists.\n",
    "* Then flatten the nested list (2D to 1D)\n",
    "* Finally keep only unique elements\n"
   ]
  },
  {
   "cell_type": "code",
   "execution_count": null,
   "id": "6e1c007a-ac7b-466d-8dd6-9ee2d610f915",
   "metadata": {},
   "outputs": [],
   "source": []
  },
  {
   "cell_type": "markdown",
   "id": "19187c7e-58df-41bd-8d73-a59213476ad4",
   "metadata": {},
   "source": [
    "### 4b. Test existence of label `cellar` for offers\n",
    "* again deal with nested list of list structure\n",
    "* write generic function `test_existence_of_label(offer_labels,label)`"
   ]
  },
  {
   "cell_type": "code",
   "execution_count": null,
   "id": "483af49e-98d0-4e2e-bcb2-dd798d096c41",
   "metadata": {},
   "outputs": [],
   "source": []
  },
  {
   "cell_type": "markdown",
   "id": "24e72a4b-82c6-484b-bfb1-c15c3fa1662c",
   "metadata": {},
   "source": [
    "### 4c. Test existence of all possible labels\n",
    "* use apply returning series with all labels"
   ]
  },
  {
   "cell_type": "code",
   "execution_count": null,
   "id": "a633c468-e096-46bf-a51e-0f30f11cca26",
   "metadata": {
    "tags": []
   },
   "outputs": [],
   "source": []
  },
  {
   "cell_type": "code",
   "execution_count": null,
   "id": "8165a5a4-a52c-453a-b3e9-39d868fe5501",
   "metadata": {},
   "outputs": [],
   "source": []
  }
 ],
 "metadata": {
  "kernelspec": {
   "display_name": "base",
   "language": "python",
   "name": "python3"
  },
  "language_info": {
   "codemirror_mode": {
    "name": "ipython",
    "version": 3
   },
   "file_extension": ".py",
   "mimetype": "text/x-python",
   "name": "python",
   "nbconvert_exporter": "python",
   "pygments_lexer": "ipython3",
   "version": "3.9.12"
  },
  "microsoft": {
   "ms_spell_check": {
    "ms_spell_check_language": "en"
   }
  },
  "nteract": {
   "version": "nteract-front-end@1.0.0"
  }
 },
 "nbformat": 4,
 "nbformat_minor": 5
}
