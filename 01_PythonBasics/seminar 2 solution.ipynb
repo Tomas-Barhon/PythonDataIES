{
 "cells": [
  {
   "cell_type": "code",
   "execution_count": 10,
   "metadata": {},
   "outputs": [
    {
     "name": "stdout",
     "output_type": "stream",
     "text": [
      "TOmáš you will turn 100 years in the year 2093\n"
     ]
    }
   ],
   "source": [
    "import datetime\n",
    "a = input(\"What is your name: \")\n",
    "b= input (\"What is your age: \")\n",
    "print(f\"{a} you will turn 100 years in the year {datetime.datetime.now().year + 100 -int(b)}\")"
   ]
  },
  {
   "cell_type": "code",
   "execution_count": 18,
   "metadata": {},
   "outputs": [
    {
     "name": "stdout",
     "output_type": "stream",
     "text": [
      "[1, 2, 3, 4, 5, 6, 7, 8, 9, 10]\n",
      "[2, 4, 6, 8, 10, 12, 14, 16, 18, 20]\n",
      "[3, 6, 9, 12, 15, 18, 21, 24, 27, 30]\n",
      "[4, 8, 12, 16, 20, 24, 28, 32, 36, 40]\n",
      "[5, 10, 15, 20, 25, 30, 35, 40, 45, 50]\n",
      "[6, 12, 18, 24, 30, 36, 42, 48, 54, 60]\n",
      "[7, 14, 21, 28, 35, 42, 49, 56, 63, 70]\n",
      "[8, 16, 24, 32, 40, 48, 56, 64, 72, 80]\n",
      "[9, 18, 27, 36, 45, 54, 63, 72, 81, 90]\n",
      "[10, 20, 30, 40, 50, 60, 70, 80, 90, 100]\n"
     ]
    }
   ],
   "source": [
    "\n",
    "table = []\n",
    "for i in range(10):\n",
    "    table.append([])\n",
    "    for j in range(10):\n",
    "        table[i].append((i+1)*(j+1))\n",
    "for i in range(10):\n",
    "    print(table[i])"
   ]
  },
  {
   "cell_type": "code",
   "execution_count": 20,
   "metadata": {},
   "outputs": [
    {
     "name": "stdout",
     "output_type": "stream",
     "text": [
      "{'auto': 3, 'koláč': 4, 'bagr': 4, 'trouba': 7}\n"
     ]
    }
   ],
   "source": [
    "a = {\"auto\":3,\"koláč\":4}\n",
    "b = {\"bagr\":4,\"trouba\":7}\n",
    "print(a | b)"
   ]
  },
  {
   "cell_type": "code",
   "execution_count": 22,
   "metadata": {},
   "outputs": [
    {
     "name": "stdout",
     "output_type": "stream",
     "text": [
      "0\n",
      "700.0\n",
      "2600000.0\n"
     ]
    }
   ],
   "source": [
    "def calculate_tax(income):\n",
    "    if income <= 5000:\n",
    "        return 0\n",
    "    if income <= 10000:\n",
    "        return income * 0.1\n",
    "    else:\n",
    "        return income * 0.2\n",
    "print(calculate_tax(5))\n",
    "print(calculate_tax(7000))\n",
    "print(calculate_tax(13000000))"
   ]
  },
  {
   "cell_type": "code",
   "execution_count": 25,
   "metadata": {},
   "outputs": [
    {
     "name": "stdout",
     "output_type": "stream",
     "text": [
      "{0: 0, 1: 1, 2: 4, 3: 9, 4: 16, 5: 25, 6: 36, 7: 49, 8: 64, 9: 81, 10: 100, 11: 121, 12: 144, 13: 169, 14: 196, 15: 225, 16: 256, 17: 289, 18: 324, 19: 361, 20: 400, 21: 441, 22: 484, 23: 529, 24: 576, 25: 625, 26: 676, 27: 729, 28: 784, 29: 841, 30: 900, 31: 961, 32: 1024, 33: 1089, 34: 1156, 35: 1225, 36: 1296, 37: 1369, 38: 1444, 39: 1521, 40: 1600, 41: 1681, 42: 1764, 43: 1849, 44: 1936, 45: 2025, 46: 2116, 47: 2209, 48: 2304, 49: 2401, 50: 2500, 51: 2601, 52: 2704, 53: 2809, 54: 2916, 55: 3025, 56: 3136, 57: 3249, 58: 3364, 59: 3481, 60: 3600, 61: 3721, 62: 3844, 63: 3969, 64: 4096, 65: 4225, 66: 4356, 67: 4489, 68: 4624, 69: 4761, 70: 4900, 71: 5041, 72: 5184, 73: 5329, 74: 5476, 75: 5625, 76: 5776, 77: 5929, 78: 6084, 79: 6241, 80: 6400, 81: 6561, 82: 6724, 83: 6889, 84: 7056, 85: 7225, 86: 7396, 87: 7569, 88: 7744, 89: 7921, 90: 8100, 91: 8281, 92: 8464, 93: 8649, 94: 8836, 95: 9025, 96: 9216, 97: 9409, 98: 9604, 99: 9801}\n",
      "[0, 1, 2, 3, 4, 5, 6, 7, 8, 9, 10, 11, 12, 13, 14, 15, 16, 17, 18, 19, 20, 21, 22, 23, 24, 25, 26, 27, 28, 29, 30, 31, 32, 33, 34, 35, 36, 37, 38, 39, 40, 41, 42, 43, 44, 45, 46, 47, 48, 49, 50, 51, 52, 53, 54, 55, 56, 57, 58, 59, 60, 61, 62, 63, 64, 65, 66, 67, 68, 69, 70, 71, 72, 73, 74, 75, 76, 77, 78, 79, 80, 81, 82, 83, 84, 85, 86, 87, 88, 89, 90, 91, 92, 93, 94, 95, 96, 97, 98, 99]\n"
     ]
    },
    {
     "ename": "TypeError",
     "evalue": "cannot convert dictionary update sequence element #0 to a sequence",
     "output_type": "error",
     "traceback": [
      "\u001b[1;31m---------------------------------------------------------------------------\u001b[0m",
      "\u001b[1;31mTypeError\u001b[0m                                 Traceback (most recent call last)",
      "\u001b[1;32mc:\\Users\\tomas\\Python IES\\PythonDataIES\\01_PythonBasics\\seminar 2 solution.ipynb Cell 5\u001b[0m in \u001b[0;36m<cell line: 12>\u001b[1;34m()\u001b[0m\n\u001b[0;32m     <a href='vscode-notebook-cell:/c%3A/Users/tomas/Python%20IES/PythonDataIES/01_PythonBasics/seminar%202%20solution.ipynb#W5sZmlsZQ%3D%3D?line=9'>10</a>\u001b[0m     new_dictionary\u001b[39m.\u001b[39mupdate([pair \u001b[39mfor\u001b[39;00m pair \u001b[39min\u001b[39;00m dictionary])\n\u001b[0;32m     <a href='vscode-notebook-cell:/c%3A/Users/tomas/Python%20IES/PythonDataIES/01_PythonBasics/seminar%202%20solution.ipynb#W5sZmlsZQ%3D%3D?line=10'>11</a>\u001b[0m     \u001b[39mreturn\u001b[39;00m new_dictionary\n\u001b[1;32m---> <a href='vscode-notebook-cell:/c%3A/Users/tomas/Python%20IES/PythonDataIES/01_PythonBasics/seminar%202%20solution.ipynb#W5sZmlsZQ%3D%3D?line=11'>12</a>\u001b[0m \u001b[39mprint\u001b[39m(switch_key_for_values(reutrn_squared(\u001b[39mlist\u001b[39;49m(\u001b[39mrange\u001b[39;49m(\u001b[39m100\u001b[39;49m)))))\n",
      "\u001b[1;32mc:\\Users\\tomas\\Python IES\\PythonDataIES\\01_PythonBasics\\seminar 2 solution.ipynb Cell 5\u001b[0m in \u001b[0;36mswitch_key_for_values\u001b[1;34m(dictionary)\u001b[0m\n\u001b[0;32m      <a href='vscode-notebook-cell:/c%3A/Users/tomas/Python%20IES/PythonDataIES/01_PythonBasics/seminar%202%20solution.ipynb#W5sZmlsZQ%3D%3D?line=7'>8</a>\u001b[0m new_dictionary \u001b[39m=\u001b[39m {}\n\u001b[0;32m      <a href='vscode-notebook-cell:/c%3A/Users/tomas/Python%20IES/PythonDataIES/01_PythonBasics/seminar%202%20solution.ipynb#W5sZmlsZQ%3D%3D?line=8'>9</a>\u001b[0m \u001b[39mprint\u001b[39m([pair \u001b[39mfor\u001b[39;00m pair \u001b[39min\u001b[39;00m dictionary])\n\u001b[1;32m---> <a href='vscode-notebook-cell:/c%3A/Users/tomas/Python%20IES/PythonDataIES/01_PythonBasics/seminar%202%20solution.ipynb#W5sZmlsZQ%3D%3D?line=9'>10</a>\u001b[0m new_dictionary\u001b[39m.\u001b[39;49mupdate([pair \u001b[39mfor\u001b[39;49;00m pair \u001b[39min\u001b[39;49;00m dictionary])\n\u001b[0;32m     <a href='vscode-notebook-cell:/c%3A/Users/tomas/Python%20IES/PythonDataIES/01_PythonBasics/seminar%202%20solution.ipynb#W5sZmlsZQ%3D%3D?line=10'>11</a>\u001b[0m \u001b[39mreturn\u001b[39;00m new_dictionary\n",
      "\u001b[1;31mTypeError\u001b[0m: cannot convert dictionary update sequence element #0 to a sequence"
     ]
    }
   ],
   "source": [
    "def reutrn_squared(input_dict):\n",
    "    dictionary = {}\n",
    "    for i in input_dict:\n",
    "        dictionary[i] = i**2\n",
    "    return dictionary\n",
    "print(reutrn_squared(list(range(100))))\n",
    "def switch_key_for_values(dictionary):\n",
    "    new_dictionary = {}\n",
    "    print([pair for pair in dictionary])\n",
    "    new_dictionary.update([pair for pair in dictionary])\n",
    "    return new_dictionary\n",
    "print(switch_key_for_values(reutrn_squared(list(range(100)))))"
   ]
  },
  {
   "cell_type": "code",
   "execution_count": null,
   "metadata": {},
   "outputs": [],
   "source": []
  }
 ],
 "metadata": {
  "kernelspec": {
   "display_name": "base",
   "language": "python",
   "name": "python3"
  },
  "language_info": {
   "name": "python",
   "version": "3.9.12"
  },
  "orig_nbformat": 4,
  "vscode": {
   "interpreter": {
    "hash": "e49ad1be67d84e8c05f1355bfb4687abe6018e3beac2c9859fbf3b6d3966e0f5"
   }
  }
 },
 "nbformat": 4,
 "nbformat_minor": 2
}
